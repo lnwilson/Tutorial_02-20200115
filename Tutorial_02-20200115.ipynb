{
 "cells": [
  {
   "cell_type": "markdown",
   "metadata": {},
   "source": [
    "# Tutorial 2: Viewing subsets of the data #\n"
   ]
  },
  {
   "cell_type": "markdown",
   "metadata": {},
   "source": [
    "## Objectives: ##\n",
    "To practice accessing a subset of the data.\n",
    "* Using only certain lines of data.\n",
    "* Using only the data with one variable in a particular range or with a particular value."
   ]
  },
  {
   "cell_type": "markdown",
   "metadata": {},
   "source": [
    "## Instructions: ##\n",
    "Read the function description then complete the corresponding question."
   ]
  },
  {
   "cell_type": "markdown",
   "metadata": {},
   "source": [
    "## Formulae: ##\n",
    "No formlae are required for this tutorial."
   ]
  },
  {
   "cell_type": "markdown",
   "metadata": {},
   "source": [
    "## Tools: ##"
   ]
  },
  {
   "cell_type": "code",
   "execution_count": null,
   "metadata": {},
   "outputs": [],
   "source": [
    "census <- read.csv(\"census.csv\",header=TRUE)"
   ]
  },
  {
   "cell_type": "markdown",
   "metadata": {},
   "source": [
    "## Data Information: ##\n",
    "\n",
    "### Data Set: ###\n",
    "A random sample of observations from the 2000 U.S. Census Data.\n",
    "#### Name: #### \n",
    "* `census` - observations from the 2000 U.S. Census Data.\n",
    "\n",
    "#### Variables: ####\n",
    "* `census_year` - Census Year.\n",
    "* `state_fips_code` - Name of state.\n",
    "* `total_family_income` - Total family income (in U.S. dollars).\n",
    "* `age` - Age.\n",
    "* `sex` - Sex with levels: Female and Male.\n",
    "* `race_general` - Race with levels: American Indian or Alaska Native, Black, Chinese, Japanese, Other Asian or Pacific Islander, Two major races, White and Other.\n",
    "* `marital_status` - Marital status with levels Divorced, Married/spouse absent, Married/spouse present, Never married/single, Separated and Widowed.\n",
    "* `total_personal_income` - Total personal income (in U.S. dollars).\n"
   ]
  },
  {
   "cell_type": "markdown",
   "metadata": {},
   "source": [
    "## Question 1. Investigate the data ##"
   ]
  },
  {
   "cell_type": "markdown",
   "metadata": {},
   "source": [
    "### Let's use commands from last week to get a sense of what the data looks like. ###\n",
    "* a. Display the first six lines of the data.\n",
    "* b. Display the last six lines of the data.\n",
    "* c. What are the dimensions of the data?\n",
    "* d. Sometimes a table can be a good way to summarize some of the data.<br>The command to make a table is<br> `table(` &lt;variable&gt; `,` &lt;variable&gt; `,` ...`)` <br>Make a table to show the sex and race of the respondents in this sample."
   ]
  },
  {
   "cell_type": "markdown",
   "metadata": {},
   "source": [
    "### Answer 1a. ###"
   ]
  },
  {
   "cell_type": "code",
   "execution_count": null,
   "metadata": {},
   "outputs": [],
   "source": [
    "This is a code cell, enter an R command."
   ]
  },
  {
   "cell_type": "markdown",
   "metadata": {},
   "source": [
    "### Answer 1b. ###"
   ]
  },
  {
   "cell_type": "code",
   "execution_count": null,
   "metadata": {},
   "outputs": [],
   "source": [
    "This is a code cell, enter an R command."
   ]
  },
  {
   "cell_type": "markdown",
   "metadata": {},
   "source": [
    "### Answer 1c. ###"
   ]
  },
  {
   "cell_type": "code",
   "execution_count": null,
   "metadata": {},
   "outputs": [],
   "source": [
    "This is a code cell, enter an R command."
   ]
  },
  {
   "cell_type": "markdown",
   "metadata": {},
   "source": [
    "### Answer 1d. ###"
   ]
  },
  {
   "cell_type": "code",
   "execution_count": null,
   "metadata": {},
   "outputs": [],
   "source": [
    "This is a code cell, enter an R command."
   ]
  },
  {
   "cell_type": "markdown",
   "metadata": {},
   "source": [
    "## Question 2. Use some of the lines ##"
   ]
  },
  {
   "cell_type": "markdown",
   "metadata": {},
   "source": [
    "If you know which line or lines of the data interest you then you can access just those lines by entering the line number or the range of lines in square brackets after the dataName or variable. <br>\n",
    "Recall: \n",
    "<br> - `which.max(` &lt;variable&gt; `)` and `which.min(` &lt;variable&gt; `)` determine which line contains the maximum and minimum value for the given variable, respectively.\n",
    "<br> - &lt;variable&gt; `[` n `]` determine the value of a variable on line n\n",
    "<br> - &lt;variable&gt; `[` n `:` m `]` determine the value of a variable on lines n through m provided n $\\le$ m\n",
    "* a. What is the age of the respondent on the first line of the data?\n",
    "* b. What is the family income of the oldest respondent in the sample?\n",
    "* c. Where does the youngest respondent live?\n",
    "* d. What is the mean age of the respondents on lines 100 to 110 of the sample?"
   ]
  },
  {
   "cell_type": "markdown",
   "metadata": {},
   "source": [
    "### Answer 2a. ###"
   ]
  },
  {
   "cell_type": "code",
   "execution_count": null,
   "metadata": {},
   "outputs": [],
   "source": [
    "This is a code cell, enter an R command."
   ]
  },
  {
   "cell_type": "markdown",
   "metadata": {},
   "source": [
    "### Answer 2b."
   ]
  },
  {
   "cell_type": "code",
   "execution_count": null,
   "metadata": {},
   "outputs": [],
   "source": [
    "This is a code cell, enter an R command."
   ]
  },
  {
   "cell_type": "markdown",
   "metadata": {},
   "source": [
    "### Answer 2c. ###"
   ]
  },
  {
   "cell_type": "code",
   "execution_count": null,
   "metadata": {},
   "outputs": [],
   "source": [
    "This is a code cell, enter an R command."
   ]
  },
  {
   "cell_type": "markdown",
   "metadata": {},
   "source": [
    "### Answer 2d."
   ]
  },
  {
   "cell_type": "code",
   "execution_count": null,
   "metadata": {
    "scrolled": true
   },
   "outputs": [],
   "source": [
    "This is a code cell, enter an R command."
   ]
  },
  {
   "cell_type": "markdown",
   "metadata": {},
   "source": [
    "## Question 3. Finding data that meets a certain criteria ##"
   ]
  },
  {
   "cell_type": "markdown",
   "metadata": {},
   "source": [
    "The subset command can be used to limit the data to a subset of the data based on a criteria.<br>\n",
    "The subset command is<br>\n",
    "`subset(` &lt;dataName&rt; `,` &lt;true/false statement&gt; `)`\n",
    "<br>look up how to construct a true/false statement in the \"R commands you should know ...so far\" document on moodle.\n",
    "* a. List the last six female respondents in this sample.\n",
    "* b. List the first six respondents that are divorced or separated in this sample?\n",
    "* c. How many of the respondents in their seventies?\n",
    "* d. BONUS: What is the mean personal income of the respondents that are at least 18 and are not currently living with a spouse?"
   ]
  },
  {
   "cell_type": "markdown",
   "metadata": {},
   "source": [
    "### Answer 3a."
   ]
  },
  {
   "cell_type": "code",
   "execution_count": null,
   "metadata": {},
   "outputs": [],
   "source": [
    "This is a code cell, enter an R command."
   ]
  },
  {
   "cell_type": "markdown",
   "metadata": {},
   "source": [
    "### Answer 3b."
   ]
  },
  {
   "cell_type": "code",
   "execution_count": null,
   "metadata": {},
   "outputs": [],
   "source": [
    "This is a code cell, enter an R command."
   ]
  },
  {
   "cell_type": "markdown",
   "metadata": {},
   "source": [
    "### Answer 3c."
   ]
  },
  {
   "cell_type": "code",
   "execution_count": null,
   "metadata": {},
   "outputs": [],
   "source": [
    "This is a code cell, enter an R command."
   ]
  },
  {
   "cell_type": "markdown",
   "metadata": {},
   "source": [
    "This is a markdown cell, enter your answer as a sentence."
   ]
  },
  {
   "cell_type": "markdown",
   "metadata": {},
   "source": [
    "### Answer 3d."
   ]
  },
  {
   "cell_type": "code",
   "execution_count": null,
   "metadata": {},
   "outputs": [],
   "source": [
    "This is a code cell, enter an R command."
   ]
  },
  {
   "cell_type": "markdown",
   "metadata": {},
   "source": [
    "This is a markdown cell, enter your answer as a sentence."
   ]
  },
  {
   "cell_type": "markdown",
   "metadata": {},
   "source": [
    "---\n",
    "---\n",
    "#### This tutorial is released under a Creative Commons Attribution-ShareAlike 3.0 Unported.\n",
    "\n",
    "This tutorial has been adapted from a lab that  was adapted for OpenIntro by Andrew Bray and Mine Çetinkaya-Rundel from a lab written by Mark Hansen of UCLA Statistics.\n",
    "\n",
    "---\n",
    "---"
   ]
  }
 ],
 "metadata": {
  "kernelspec": {
   "display_name": "R",
   "language": "R",
   "name": "ir"
  },
  "language_info": {
   "codemirror_mode": "r",
   "file_extension": ".r",
   "mimetype": "text/x-r-source",
   "name": "R",
   "pygments_lexer": "r",
   "version": "3.6.1"
  }
 },
 "nbformat": 4,
 "nbformat_minor": 2
}
